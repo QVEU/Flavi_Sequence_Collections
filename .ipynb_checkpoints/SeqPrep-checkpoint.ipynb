{
 "cells": [
  {
   "cell_type": "code",
   "execution_count": 1,
   "id": "12bfdaa2",
   "metadata": {},
   "outputs": [],
   "source": [
    "from Bio import SeqIO"
   ]
  },
  {
   "cell_type": "code",
   "execution_count": null,
   "id": "cabe422f",
   "metadata": {},
   "outputs": [],
   "source": [
    "from Bio import SeqIO\n",
    "def sizeSelect(inputFasta,SIZEmin,SIZEmax):        \n",
    "    FL_sequences = []  # Setup an empty list\n",
    "\n",
    "    for record in SeqIO.parse(inputFasta, \"fasta\"):\n",
    "        if (len(record.seq)>SIZEmin) & (len(record.seq)<SIZEmax) & (\"N\" not in record.seq) :        \n",
    "            FL_sequences.append(record)\n",
    "    print(\"Found %i short sequences\" % len(FL_sequences))\n",
    "    \n",
    "    SeqIO.write(FL_sequences, \".fasta\".split(inputFasta)[0]+\"_sized.fasta\", \"fasta\")\n",
    "    return()"
   ]
  },
  {
   "cell_type": "code",
   "execution_count": null,
   "id": "93a97476",
   "metadata": {},
   "outputs": [],
   "source": [
    "inputFasta=\"./Contemporary/All_Dengue_Zika_Contemporary_CDS.fasta\"\n",
    "sizeSelect(inputFasta, 10000,12000)"
   ]
  },
  {
   "cell_type": "code",
   "execution_count": null,
   "id": "2abdbf63",
   "metadata": {},
   "outputs": [],
   "source": [
    "def seqTrim(inputAln,start,end):\n",
    "    sequences = []  # Setup an empty list\n",
    "\n",
    "    for record in SeqIO.parse(inputAln, \"fasta\"):\n",
    "        sequences.append(record[start:end])\n",
    "        \n",
    "    SeqIO.write(sequences, inputAln+\"_CprME_trim.fasta\", \"fasta\")"
   ]
  },
  {
   "cell_type": "code",
   "execution_count": null,
   "id": "bbe7cf20",
   "metadata": {},
   "outputs": [],
   "source": [
    "seqTrim(\"./Protein_Distances/All_Dengue_Zika_Contemporary_CDS_FL.fasta_codonAlign.aln\",0,2385)"
   ]
  },
  {
   "cell_type": "code",
   "execution_count": null,
   "id": "99d585c0",
   "metadata": {},
   "outputs": [],
   "source": [
    "seqTrim(\"./Protein_Distances/DENV1_FL_CDS_2.6K.fasta_codonAlign.aln\",0,2325)"
   ]
  },
  {
   "cell_type": "code",
   "execution_count": null,
   "id": "b72f59fe",
   "metadata": {},
   "outputs": [],
   "source": [
    "seqTrim(\"./Protein_Distances/DENV2_FL_CDS_1.8K.fasta_codonAlign.aln\",0,2427)"
   ]
  },
  {
   "cell_type": "code",
   "execution_count": null,
   "id": "5935a8d3",
   "metadata": {},
   "outputs": [],
   "source": [
    "seqTrim(\"./Protein_Distances/ZIKV_FL_CDS_900.fasta_codonAlign.aln\",0,2382)"
   ]
  },
  {
   "cell_type": "code",
   "execution_count": 2,
   "id": "521557de",
   "metadata": {},
   "outputs": [],
   "source": [
    "from Bio import Seq"
   ]
  },
  {
   "cell_type": "code",
   "execution_count": 61,
   "id": "13f3b47a",
   "metadata": {},
   "outputs": [],
   "source": [
    "def Nomerator(inputAln):\n",
    "    sequences=[]\n",
    "    for record in SeqIO.parse(inputAln, \"fasta\"):\n",
    "        splits=record.id.split(\"|\")\n",
    "        #print(splits)\n",
    "        record.id=splits[0]+\"|\"+splits[3]\n",
    "        record.description=\"\"\n",
    "        seqString=record.seq\n",
    "        record.seq=seqString.ungap(\"-\")\n",
    "        #print(record)\n",
    "        sequences.append(record)\n",
    "    return(sequences)\n",
    "\n",
    "def Gapperator(inputAln):\n",
    "    sequences=[]\n",
    "    for record in SeqIO.parse(inputAln, \"fasta\"):\n",
    "        #print(splits)\n",
    "        seqString=record.seq\n",
    "        record.seq=seqString.ungap(\"-\")\n",
    "        #print(record)\n",
    "        sequences.append(record)\n",
    "    return(sequences)"
   ]
  },
  {
   "cell_type": "code",
   "execution_count": 69,
   "id": "4b69bd67",
   "metadata": {},
   "outputs": [
    {
     "data": {
      "text/plain": [
       "75"
      ]
     },
     "execution_count": 69,
     "metadata": {},
     "output_type": "execute_result"
    }
   ],
   "source": [
    "inputAln=\"Protein_Distances/CprME_trimmed/All_Dengue_Zika_Contemporary_CDS_FL.fasta_codonAlign.aln_CprME_trim.fastaBIRCH_outputSeqs.fasta\"\n",
    "cleanNames=Nomerator(inputAln)\n",
    "SeqIO.write(cleanNames, inputAln+\"_CleanNames.fasta\", \"fasta\")"
   ]
  },
  {
   "cell_type": "code",
   "execution_count": 72,
   "id": "6b14847e",
   "metadata": {},
   "outputs": [
    {
     "data": {
      "text/plain": [
       "75"
      ]
     },
     "execution_count": 72,
     "metadata": {},
     "output_type": "execute_result"
    }
   ],
   "source": [
    "inputAln=\"Protein_Distances/CprME_trimmed/DENV1_FL_CDS_2.6K.fasta_codonAlign.aln_CprME_trim.fastaBIRCH_outputSeqs.fasta\"\n",
    "cleanNames=Nomerator(inputAln)\n",
    "SeqIO.write(cleanNames, inputAln+\"_CleanNames.fasta\", \"fasta\")"
   ]
  },
  {
   "cell_type": "code",
   "execution_count": 73,
   "id": "c71a9c58",
   "metadata": {},
   "outputs": [
    {
     "data": {
      "text/plain": [
       "75"
      ]
     },
     "execution_count": 73,
     "metadata": {},
     "output_type": "execute_result"
    }
   ],
   "source": [
    "inputAln=\"Protein_Distances/CprME_trimmed/DENV2_FL_CDS_1.8K.fasta_codonAlign.aln_CprME_trim.fastaBIRCH_outputSeqs.fasta\"\n",
    "cleanNames=Nomerator(inputAln)\n",
    "SeqIO.write(cleanNames, inputAln+\"_CleanNames.fasta\", \"fasta\")"
   ]
  },
  {
   "cell_type": "code",
   "execution_count": 74,
   "id": "a8a8bc71",
   "metadata": {},
   "outputs": [
    {
     "data": {
      "text/plain": [
       "75"
      ]
     },
     "execution_count": 74,
     "metadata": {},
     "output_type": "execute_result"
    }
   ],
   "source": [
    "inputAln=\"Protein_Distances/CprME_trimmed/ZIKV_FL_CDS_900.fasta_codonAlign.aln_CprME_trim.fastaBIRCH_outputSeqs.fasta\"\n",
    "cleanNames=Nomerator(inputAln)\n",
    "SeqIO.write(cleanNames, inputAln+\"_CleanNames.fasta\", \"fasta\")"
   ]
  },
  {
   "cell_type": "code",
   "execution_count": null,
   "id": "ea99b377",
   "metadata": {},
   "outputs": [],
   "source": []
  },
  {
   "cell_type": "code",
   "execution_count": null,
   "id": "2fe94a12",
   "metadata": {},
   "outputs": [],
   "source": []
  }
 ],
 "metadata": {
  "kernelspec": {
   "display_name": "Python 3 (ipykernel)",
   "language": "python",
   "name": "python3"
  },
  "language_info": {
   "codemirror_mode": {
    "name": "ipython",
    "version": 3
   },
   "file_extension": ".py",
   "mimetype": "text/x-python",
   "name": "python",
   "nbconvert_exporter": "python",
   "pygments_lexer": "ipython3",
   "version": "3.9.7"
  }
 },
 "nbformat": 4,
 "nbformat_minor": 5
}
